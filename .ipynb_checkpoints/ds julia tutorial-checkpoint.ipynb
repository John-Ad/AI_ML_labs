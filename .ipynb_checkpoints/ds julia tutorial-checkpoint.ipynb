{
 "cells": [
  {
   "cell_type": "code",
   "execution_count": 5,
   "id": "f646fff9",
   "metadata": {},
   "outputs": [
    {
     "data": {
      "text/plain": [
       "3-element Vector{Int64}:\n",
       " 10\n",
       " 20\n",
       " 30"
      ]
     },
     "execution_count": 5,
     "metadata": {},
     "output_type": "execute_result"
    }
   ],
   "source": [
    "# row vector\n",
    "arr=[10,20,30]"
   ]
  },
  {
   "cell_type": "code",
   "execution_count": 7,
   "id": "354c4683",
   "metadata": {},
   "outputs": [
    {
     "data": {
      "text/plain": [
       "3-element Vector{Int64}:\n",
       " 10\n",
       " 20\n",
       " 30"
      ]
     },
     "execution_count": 7,
     "metadata": {},
     "output_type": "execute_result"
    }
   ],
   "source": [
    "# column vector\n",
    "arr=[10; 20; 30]"
   ]
  },
  {
   "cell_type": "code",
   "execution_count": 10,
   "id": "caed4c7d",
   "metadata": {},
   "outputs": [
    {
     "data": {
      "text/plain": [
       "3×3 Matrix{Int64}:\n",
       " 1  2  3\n",
       " 4  5  6\n",
       " 7  8  9"
      ]
     },
     "execution_count": 10,
     "metadata": {},
     "output_type": "execute_result"
    }
   ],
   "source": [
    "# matrix 3x3\n",
    "mtrx=[1 2 3; 4 5 6; 7 8 9]\n",
    "# access 1st row second col:  mtrx[1,2]"
   ]
  },
  {
   "cell_type": "code",
   "execution_count": 11,
   "id": "76f8aa5e",
   "metadata": {},
   "outputs": [
    {
     "data": {
      "text/plain": [
       "3×3 adjoint(::Matrix{Int64}) with eltype Int64:\n",
       " 1  4  7\n",
       " 2  5  8\n",
       " 3  6  9"
      ]
     },
     "execution_count": 11,
     "metadata": {},
     "output_type": "execute_result"
    }
   ],
   "source": [
    "# transpose of matrix\n",
    "mtrx'"
   ]
  },
  {
   "cell_type": "code",
   "execution_count": 12,
   "id": "55ce0c15",
   "metadata": {},
   "outputs": [
    {
     "ename": "LoadError",
     "evalue": "LinearAlgebra.SingularException(3)",
     "output_type": "error",
     "traceback": [
      "LinearAlgebra.SingularException(3)",
      "",
      "Stacktrace:",
      " [1] checknonsingular",
      "   @ ~/julia-1.7.1/share/julia/stdlib/v1.7/LinearAlgebra/src/factorization.jl:19 [inlined]",
      " [2] checknonsingular",
      "   @ ~/julia-1.7.1/share/julia/stdlib/v1.7/LinearAlgebra/src/factorization.jl:21 [inlined]",
      " [3] #lu!#146",
      "   @ ~/julia-1.7.1/share/julia/stdlib/v1.7/LinearAlgebra/src/lu.jl:82 [inlined]",
      " [4] #lu#153",
      "   @ ~/julia-1.7.1/share/julia/stdlib/v1.7/LinearAlgebra/src/lu.jl:279 [inlined]",
      " [5] lu (repeats 2 times)",
      "   @ ~/julia-1.7.1/share/julia/stdlib/v1.7/LinearAlgebra/src/lu.jl:278 [inlined]",
      " [6] inv(A::Matrix{Int64})",
      "   @ LinearAlgebra ~/julia-1.7.1/share/julia/stdlib/v1.7/LinearAlgebra/src/dense.jl:876",
      " [7] top-level scope",
      "   @ In[12]:2",
      " [8] eval",
      "   @ ./boot.jl:373 [inlined]",
      " [9] include_string(mapexpr::typeof(REPL.softscope), mod::Module, code::String, filename::String)",
      "   @ Base ./loading.jl:1196"
     ]
    }
   ],
   "source": [
    "# inverse of matrix\n",
    "m=[1 2; 3 4]\n",
    "inv(m)"
   ]
  },
  {
   "cell_type": "code",
   "execution_count": null,
   "id": "5d6711ca",
   "metadata": {},
   "outputs": [],
   "source": []
  }
 ],
 "metadata": {
  "kernelspec": {
   "display_name": "Julia 1.7.1",
   "language": "julia",
   "name": "julia-1.7"
  },
  "language_info": {
   "file_extension": ".jl",
   "mimetype": "application/julia",
   "name": "julia",
   "version": "1.7.1"
  }
 },
 "nbformat": 4,
 "nbformat_minor": 5
}
