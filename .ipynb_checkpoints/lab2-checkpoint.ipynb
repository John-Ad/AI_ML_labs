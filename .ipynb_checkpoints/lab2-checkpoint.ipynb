{
 "cells": [
  {
   "cell_type": "markdown",
   "id": "f356104f",
   "metadata": {},
   "source": [
    "## Linear regression"
   ]
  },
  {
   "cell_type": "code",
   "execution_count": 1,
   "id": "d1ad9338",
   "metadata": {},
   "outputs": [],
   "source": [
    "using DataFrames\n",
    "using Plots\n",
    "using CSV\n",
    "using Statistics\n",
    "using StatsBase\n",
    "using StatsPlots"
   ]
  },
  {
   "cell_type": "code",
   "execution_count": 2,
   "id": "c8ceace3",
   "metadata": {},
   "outputs": [
    {
     "data": {
      "text/html": [
       "<table class=\"data-frame\"><thead><tr><th></th><th>No</th><th>X1 transaction date</th><th>X2 house age</th><th>X3 distance to the nearest MRT station</th></tr><tr><th></th><th>Int64</th><th>Float64</th><th>Float64</th><th>Float64</th></tr></thead><tbody><p>3 rows × 8 columns (omitted printing of 4 columns)</p><tr><th>1</th><td>1</td><td>2012.92</td><td>32.0</td><td>84.8788</td></tr><tr><th>2</th><td>2</td><td>2012.92</td><td>19.5</td><td>306.595</td></tr><tr><th>3</th><td>3</td><td>2013.58</td><td>13.3</td><td>561.985</td></tr></tbody></table>"
      ],
      "text/latex": [
       "\\begin{tabular}{r|ccccc}\n",
       "\t& No & X1 transaction date & X2 house age & X3 distance to the nearest MRT station & \\\\\n",
       "\t\\hline\n",
       "\t& Int64 & Float64 & Float64 & Float64 & \\\\\n",
       "\t\\hline\n",
       "\t1 & 1 & 2012.92 & 32.0 & 84.8788 & $\\dots$ \\\\\n",
       "\t2 & 2 & 2012.92 & 19.5 & 306.595 & $\\dots$ \\\\\n",
       "\t3 & 3 & 2013.58 & 13.3 & 561.985 & $\\dots$ \\\\\n",
       "\\end{tabular}\n"
      ],
      "text/plain": [
       "\u001b[1m3×8 DataFrame\u001b[0m\n",
       "\u001b[1m Row \u001b[0m│\u001b[1m No    \u001b[0m\u001b[1m X1 transaction date \u001b[0m\u001b[1m X2 house age \u001b[0m\u001b[1m X3 distance to the nearest MR\u001b[0m ⋯\n",
       "\u001b[1m     \u001b[0m│\u001b[90m Int64 \u001b[0m\u001b[90m Float64             \u001b[0m\u001b[90m Float64      \u001b[0m\u001b[90m Float64                      \u001b[0m ⋯\n",
       "─────┼──────────────────────────────────────────────────────────────────────────\n",
       "   1 │     1              2012.92          32.0                                ⋯\n",
       "   2 │     2              2012.92          19.5\n",
       "   3 │     3              2013.58          13.3\n",
       "\u001b[36m                                                               5 columns omitted\u001b[0m"
      ]
     },
     "execution_count": 2,
     "metadata": {},
     "output_type": "execute_result"
    }
   ],
   "source": [
    "# read data\n",
    "\n",
    "df=CSV.read(\"./real_estate.csv\",DataFrame)\n",
    "first(df,3)"
   ]
  },
  {
   "cell_type": "code",
   "execution_count": 3,
   "id": "4aa1bec2",
   "metadata": {},
   "outputs": [
    {
     "data": {
      "text/html": [
       "<table class=\"data-frame\"><thead><tr><th></th><th>variable</th><th>mean</th><th>min</th><th>median</th><th>max</th><th>nmissing</th></tr><tr><th></th><th>Symbol</th><th>Float64</th><th>Real</th><th>Float64</th><th>Real</th><th>Int64</th></tr></thead><tbody><p>8 rows × 7 columns (omitted printing of 1 columns)</p><tr><th>1</th><td>No</td><td>207.5</td><td>1</td><td>207.5</td><td>414</td><td>0</td></tr><tr><th>2</th><td>X1 transaction date</td><td>2013.15</td><td>2012.67</td><td>2013.17</td><td>2013.58</td><td>0</td></tr><tr><th>3</th><td>X2 house age</td><td>17.7126</td><td>0.0</td><td>16.1</td><td>43.8</td><td>0</td></tr><tr><th>4</th><td>X3 distance to the nearest MRT station</td><td>1083.89</td><td>23.3828</td><td>492.231</td><td>6488.02</td><td>0</td></tr><tr><th>5</th><td>X4 number of convenience stores</td><td>4.0942</td><td>0</td><td>4.0</td><td>10</td><td>0</td></tr><tr><th>6</th><td>X5 latitude</td><td>24.969</td><td>24.9321</td><td>24.9711</td><td>25.0146</td><td>0</td></tr><tr><th>7</th><td>X6 longitude</td><td>121.533</td><td>121.474</td><td>121.539</td><td>121.566</td><td>0</td></tr><tr><th>8</th><td>Y house price of unit area</td><td>37.9802</td><td>7.6</td><td>38.45</td><td>117.5</td><td>0</td></tr></tbody></table>"
      ],
      "text/latex": [
       "\\begin{tabular}{r|ccccccc}\n",
       "\t& variable & mean & min & median & max & nmissing & \\\\\n",
       "\t\\hline\n",
       "\t& Symbol & Float64 & Real & Float64 & Real & Int64 & \\\\\n",
       "\t\\hline\n",
       "\t1 & No & 207.5 & 1 & 207.5 & 414 & 0 & $\\dots$ \\\\\n",
       "\t2 & X1 transaction date & 2013.15 & 2012.67 & 2013.17 & 2013.58 & 0 & $\\dots$ \\\\\n",
       "\t3 & X2 house age & 17.7126 & 0.0 & 16.1 & 43.8 & 0 & $\\dots$ \\\\\n",
       "\t4 & X3 distance to the nearest MRT station & 1083.89 & 23.3828 & 492.231 & 6488.02 & 0 & $\\dots$ \\\\\n",
       "\t5 & X4 number of convenience stores & 4.0942 & 0 & 4.0 & 10 & 0 & $\\dots$ \\\\\n",
       "\t6 & X5 latitude & 24.969 & 24.9321 & 24.9711 & 25.0146 & 0 & $\\dots$ \\\\\n",
       "\t7 & X6 longitude & 121.533 & 121.474 & 121.539 & 121.566 & 0 & $\\dots$ \\\\\n",
       "\t8 & Y house price of unit area & 37.9802 & 7.6 & 38.45 & 117.5 & 0 & $\\dots$ \\\\\n",
       "\\end{tabular}\n"
      ],
      "text/plain": [
       "\u001b[1m8×7 DataFrame\u001b[0m\n",
       "\u001b[1m Row \u001b[0m│\u001b[1m variable                          \u001b[0m\u001b[1m mean      \u001b[0m\u001b[1m min     \u001b[0m\u001b[1m median    \u001b[0m\u001b[1m max  \u001b[0m ⋯\n",
       "\u001b[1m     \u001b[0m│\u001b[90m Symbol                            \u001b[0m\u001b[90m Float64   \u001b[0m\u001b[90m Real    \u001b[0m\u001b[90m Float64   \u001b[0m\u001b[90m Real \u001b[0m ⋯\n",
       "─────┼──────────────────────────────────────────────────────────────────────────\n",
       "   1 │ No                                  207.5           1   207.5         4 ⋯\n",
       "   2 │ X1 transaction date                2013.15    2012.67  2013.17    2013.\n",
       "   3 │ X2 house age                         17.7126      0.0    16.1        43\n",
       "   4 │ X3 distance to the nearest MRT s…  1083.89    23.3828   492.231   6488.\n",
       "   5 │ X4 number of convenience stores       4.0942        0     4.0           ⋯\n",
       "   6 │ X5 latitude                          24.969   24.9321    24.9711  25.01\n",
       "   7 │ X6 longitude                        121.533   121.474   121.539   121.5\n",
       "   8 │ Y house price of unit area           37.9802      7.6    38.45      117\n",
       "\u001b[36m                                                               3 columns omitted\u001b[0m"
      ]
     },
     "execution_count": 3,
     "metadata": {},
     "output_type": "execute_result"
    }
   ],
   "source": [
    "# describe data\n",
    "\n",
    "describe(df)"
   ]
  },
  {
   "cell_type": "code",
   "execution_count": 4,
   "id": "3e3365c7",
   "metadata": {},
   "outputs": [
    {
     "data": {
      "text/plain": [
       "replaceCols (generic function with 1 method)"
      ]
     },
     "execution_count": 4,
     "metadata": {},
     "output_type": "execute_result"
    }
   ],
   "source": [
    "function replaceCols(colNames::Vector{String})\n",
    "    newCols=String127[]\n",
    "    for n in colNames\n",
    "        push!(newCols,String(replace(strip(n),\" \"=>\"_\")))\n",
    "    end\n",
    "    rename!(df,newCols)\n",
    "end"
   ]
  },
  {
   "cell_type": "code",
   "execution_count": 5,
   "id": "2631e099",
   "metadata": {},
   "outputs": [
    {
     "data": {
      "text/plain": [
       "8-element Vector{String}:\n",
       " \"No\"\n",
       " \"X1_transaction_date\"\n",
       " \"X2_house_age\"\n",
       " \"X3_distance_to_the_nearest_MRT_station\"\n",
       " \"X4_number_of_convenience_stores\"\n",
       " \"X5_latitude\"\n",
       " \"X6_longitude\"\n",
       " \"Y_house_price_of_unit_area\""
      ]
     },
     "execution_count": 5,
     "metadata": {},
     "output_type": "execute_result"
    }
   ],
   "source": [
    "# replace col names\n",
    "\n",
    "replaceCols(names(df))\n",
    "names(df)"
   ]
  },
  {
   "cell_type": "code",
   "execution_count": 6,
   "id": "77c19687",
   "metadata": {},
   "outputs": [
    {
     "data": {
      "text/plain": [
       "(414, 7)"
      ]
     },
     "execution_count": 6,
     "metadata": {},
     "output_type": "execute_result"
    }
   ],
   "source": [
    "# drop No col\n",
    "\n",
    "select!(df, Not(:No))\n",
    "size(df)"
   ]
  },
  {
   "cell_type": "code",
   "execution_count": 8,
   "id": "872179e8",
   "metadata": {},
   "outputs": [],
   "source": [
    "# tdf=df[1:300, :]"
   ]
  },
  {
   "cell_type": "code",
   "execution_count": 10,
   "id": "91dfaaf3",
   "metadata": {},
   "outputs": [
    {
     "name": "stdout",
     "output_type": "stream",
     "text": [
      "(300, 1)\n",
      "(300, 6)\n"
     ]
    }
   ],
   "source": [
    "# separate into test and training data\n",
    "\n",
    "test_df=df[301:size(df)[1], :]\n",
    "train_df=df[1:300, :]\n",
    "\n",
    "# separate prices from training data\n",
    "\n",
    "actual_y=select(train_df,:Y_house_price_of_unit_area)\n",
    "train_x=select(train_df,Not([:Y_house_price_of_unit_area]))\n",
    "\n",
    "println(size(actual_y))\n",
    "println(size(train_x))"
   ]
  },
  {
   "cell_type": "code",
   "execution_count": null,
   "id": "81eaa8b2",
   "metadata": {},
   "outputs": [],
   "source": []
  },
  {
   "cell_type": "code",
   "execution_count": 11,
   "id": "e2caf1f9",
   "metadata": {},
   "outputs": [
    {
     "data": {
      "text/plain": [
       "normalize! (generic function with 1 method)"
      ]
     },
     "execution_count": 11,
     "metadata": {},
     "output_type": "execute_result"
    }
   ],
   "source": [
    "# normalization function\n",
    "\n",
    "function normalize!(df_to_normalize::DataFrame)\n",
    "    \n",
    "    colNames=names(df_to_normalize)\n",
    "    \n",
    "    for cName in colNames  # loops through each column\n",
    "        vals=df_to_normalize[:,cName] # make vector copy of values in column\n",
    "        std_dev=std(vals) # calculate standard deviation\n",
    "        mean_val=mean(vals) # calculate mean\n",
    "        \n",
    "        #=\n",
    "        use broadcast operator . to apply mathematical function to each element\n",
    "        in the column\n",
    "        \n",
    "        The function applied is: (x - mean) / std\n",
    "        \n",
    "        The dataframe to update then has its column updated with the \n",
    "        new values\n",
    "        =#\n",
    "        df_to_normalize[!, cName] = ((vals .- mean_val) ./ std_dev) \n",
    "    end\n",
    "    \n",
    "end"
   ]
  },
  {
   "cell_type": "code",
   "execution_count": 12,
   "id": "d58cc8ac",
   "metadata": {},
   "outputs": [],
   "source": [
    "# normalize training data\n",
    "\n",
    "normalize!(actual_y)\n",
    "normalize!(train_x)\n"
   ]
  },
  {
   "cell_type": "code",
   "execution_count": 13,
   "id": "57393ad1",
   "metadata": {},
   "outputs": [
    {
     "data": {
      "text/html": [
       "<table class=\"data-frame\"><thead><tr><th></th><th>X1_transaction_date</th><th>X2_house_age</th><th>X3_distance_to_the_nearest_MRT_station</th><th>X4_number_of_convenience_stores</th></tr><tr><th></th><th>Float64</th><th>Float64</th><th>Float64</th><th>Float64</th></tr></thead><tbody><p>3 rows × 6 columns (omitted printing of 2 columns)</p><tr><th>1</th><td>-0.846294</td><td>1.25009</td><td>-0.784632</td><td>2.00992</td></tr><tr><th>2</th><td>-0.846294</td><td>0.145327</td><td>-0.611337</td><td>1.66771</td></tr><tr><th>3</th><td>1.53277</td><td>-0.402633</td><td>-0.411723</td><td>0.298865</td></tr></tbody></table>"
      ],
      "text/latex": [
       "\\begin{tabular}{r|ccccc}\n",
       "\t& X1\\_transaction\\_date & X2\\_house\\_age & X3\\_distance\\_to\\_the\\_nearest\\_MRT\\_station & X4\\_number\\_of\\_convenience\\_stores & \\\\\n",
       "\t\\hline\n",
       "\t& Float64 & Float64 & Float64 & Float64 & \\\\\n",
       "\t\\hline\n",
       "\t1 & -0.846294 & 1.25009 & -0.784632 & 2.00992 & $\\dots$ \\\\\n",
       "\t2 & -0.846294 & 0.145327 & -0.611337 & 1.66771 & $\\dots$ \\\\\n",
       "\t3 & 1.53277 & -0.402633 & -0.411723 & 0.298865 & $\\dots$ \\\\\n",
       "\\end{tabular}\n"
      ],
      "text/plain": [
       "\u001b[1m3×6 DataFrame\u001b[0m\n",
       "\u001b[1m Row \u001b[0m│\u001b[1m X1_transaction_date \u001b[0m\u001b[1m X2_house_age \u001b[0m\u001b[1m X3_distance_to_the_nearest_MRT_stati\u001b[0m ⋯\n",
       "\u001b[1m     \u001b[0m│\u001b[90m Float64             \u001b[0m\u001b[90m Float64      \u001b[0m\u001b[90m Float64                             \u001b[0m ⋯\n",
       "─────┼──────────────────────────────────────────────────────────────────────────\n",
       "   1 │           -0.846294      1.25009                                -0.7846 ⋯\n",
       "   2 │           -0.846294      0.145327                               -0.6113\n",
       "   3 │            1.53277      -0.402633                               -0.4117\n",
       "\u001b[36m                                                               4 columns omitted\u001b[0m"
      ]
     },
     "execution_count": 13,
     "metadata": {},
     "output_type": "execute_result"
    }
   ],
   "source": [
    "# check to see if norm applied\n",
    "first(train_x,3)"
   ]
  },
  {
   "cell_type": "code",
   "execution_count": null,
   "id": "c7c0266e",
   "metadata": {},
   "outputs": [],
   "source": []
  },
  {
   "cell_type": "code",
   "execution_count": 14,
   "id": "896926c8",
   "metadata": {},
   "outputs": [],
   "source": [
    "# unnecessary part of a tutorial. Kept for future reference\n",
    "\n",
    "# plot data\n",
    "# Plots.scatter(df.X4_number_of_convenience_stores, df.Y_house_price_of_unit_area, xlabel=\"num of conv stores\", ylabel=\"house price\")"
   ]
  },
  {
   "cell_type": "code",
   "execution_count": null,
   "id": "f977c513",
   "metadata": {},
   "outputs": [],
   "source": []
  },
  {
   "cell_type": "code",
   "execution_count": null,
   "id": "ef3cdce1",
   "metadata": {},
   "outputs": [],
   "source": []
  },
  {
   "cell_type": "markdown",
   "id": "505760aa",
   "metadata": {},
   "source": [
    "## Hypothesis\n",
    "\n",
    "There are 6 features, therefore, the hypothesis will be:\n",
    "\n",
    "####   hθ(x) = θ0 + θ1x1 + θ2x2 + θ2x3 + θ2x4 + θ2x5 + θ2x6 \n",
    "\n",
    "\n",
    "or more simply:\n",
    "####   y = m1x + m2x + m3x + m4x + m5x + m6x + b"
   ]
  },
  {
   "cell_type": "code",
   "execution_count": 15,
   "id": "ab88034e",
   "metadata": {},
   "outputs": [
    {
     "data": {
      "text/plain": [
       "predict_y (generic function with 1 method)"
      ]
     },
     "execution_count": 15,
     "metadata": {},
     "output_type": "execute_result"
    }
   ],
   "source": [
    "# Y prediction function\n",
    "\n",
    "#=\n",
    "    X_Matrix contains all the feature values\n",
    "    M_Matrix contains all the weight and intercept values\n",
    "\n",
    "    multiplies the x matrix with the transpose of the m matrix\n",
    "    returns a matrix consisting of a single row with the predicted y values\n",
    "=#\n",
    "\n",
    "function predict_y(X_Matrix::Matrix, M_Matrix::Matrix)::Matrix\n",
    "    return Matrix((X_Matrix * M_Matrix')') # return transpose because fucking julia stores mult results in cols\n",
    "end"
   ]
  },
  {
   "cell_type": "code",
   "execution_count": null,
   "id": "39ccf59e",
   "metadata": {},
   "outputs": [],
   "source": []
  },
  {
   "attachments": {
    "image-2.png": {
     "image/png": "[encoded data removed]"
    },
    "image-5.png": {
     "image/png": "[encoded data removed]"
    }
   },
   "cell_type": "markdown",
   "id": "261ca666",
   "metadata": {},
   "source": [
    "##  Cost/Loss function\n",
    "\n",
    "equation is:\n",
    "![image-2.png](attachment:image-2.png)\n",
    "\n",
    "derivative for multiple features:\n",
    "![image-5.png](attachment:image-5.png)\n",
    "\n",
    "\n"
   ]
  },
  {
   "cell_type": "code",
   "execution_count": 16,
   "id": "da247b8e",
   "metadata": {},
   "outputs": [
    {
     "data": {
      "text/plain": [
       "loss (generic function with 1 method)"
      ]
     },
     "execution_count": 16,
     "metadata": {},
     "output_type": "execute_result"
    }
   ],
   "source": [
    "#=\n",
    "    calculates loss with respect to a given weight \n",
    "\n",
    "    params:\n",
    "    -------\n",
    "\n",
    "    x: Matrix:  \n",
    "        test values past in for training\n",
    "    y_pred: Matrix:\n",
    "        predictions made using using current weights and x values\n",
    "    y_actual: Matrix:\n",
    "        actual y values provided with data\n",
    "\n",
    "    returns: Float64\n",
    "    --------\n",
    "=#\n",
    "\n",
    "function loss(x::Matrix, y_pred::Matrix, y_actual::Matrix, j::Int)::Float64\n",
    "    \n",
    "    m = size(x)[1]  # get num of rows   \n",
    "    \n",
    "    lSum=0\n",
    "        \n",
    "    for i in 1:m \n",
    "       lSum += ((y_pred[1, i] - y_actual[1, i]) * x[i, j])\n",
    "    end\n",
    "    \n",
    "    return (1/m) * lSum\n",
    "end\n",
    "    "
   ]
  },
  {
   "cell_type": "code",
   "execution_count": 17,
   "id": "2113aafe",
   "metadata": {},
   "outputs": [
    {
     "data": {
      "text/plain": [
       "updateWeights (generic function with 1 method)"
      ]
     },
     "execution_count": 17,
     "metadata": {},
     "output_type": "execute_result"
    }
   ],
   "source": [
    "#=\n",
    "    calculates and updates weights \n",
    "\n",
    "    params:\n",
    "    -------\n",
    "\n",
    "    current_weights: Matrix:\n",
    "        current weights\n",
    "    x: Matrix:  \n",
    "        test values past in for training\n",
    "    learning_rate: Float64\n",
    "        learning rate set by user\n",
    "    y_pred: Matrix:\n",
    "        predictions made using using current weights and x values\n",
    "    y_actual: Matrix:\n",
    "        actual y values provided with data\n",
    "\n",
    "    returns: Matrix\n",
    "    --------\n",
    "=#\n",
    "\n",
    "function updateWeights(current_weights::Matrix, learning_rate::Float64, x::Matrix, y_pred::Matrix, y_actual::Matrix)::Matrix{Float64}\n",
    "    \n",
    "    m = size(current_weights)[1]  # get num of rows   \n",
    "    \n",
    "    for j in 1:m \n",
    "        current_weights[1, j] = current_weights[1, j] - (learning_rate * loss(x, y_pred, y_actual, j))\n",
    "    end\n",
    "    \n",
    "    return current_weights\n",
    "    \n",
    "end"
   ]
  },
  {
   "cell_type": "code",
   "execution_count": 18,
   "id": "c81181a9",
   "metadata": {},
   "outputs": [
    {
     "data": {
      "text/plain": [
       "fit_linear_regression (generic function with 1 method)"
      ]
     },
     "execution_count": 18,
     "metadata": {},
     "output_type": "execute_result"
    }
   ],
   "source": [
    "#=\n",
    "    trains linear regression model using gradient decent \n",
    "\n",
    "    params:\n",
    "    -------\n",
    "\n",
    "    x: Matrix:  \n",
    "        test values past in for training\n",
    "    y_actual: Matrix:\n",
    "        actual y values provided with data\n",
    "    learning_rate: Float64\n",
    "        learning rate set by user\n",
    "    epochs: Int\n",
    "        the number of iterations to train for\n",
    "\n",
    "    returns: Vector{Float64}\n",
    "    --------\n",
    "=#\n",
    "\n",
    "function fit_linear_regression(x::Matrix, y_actual::Matrix, learning_rate::Float64, epochs::Int)::Vector{Float64}\n",
    "    \n",
    "    # concat a column of ones to x matrix that will represent y intercept\n",
    "    x = hcat(ones(size(x)[1], 1), x)\n",
    "    \n",
    "    # create weights with random values\n",
    "    weights = rand(1, size(x)[2])\n",
    "    \n",
    "    for i in 1:epochs\n",
    "        \n",
    "        # predict y values with current weights\n",
    "        y_preds = predict_y(x, weights)\n",
    "        \n",
    "        # update weights\n",
    "        weights = updateWeights(weights, learning_rate, x, y_preds, y_actual)\n",
    "        \n",
    "    end\n",
    "    \n",
    "    # return weights as vector\n",
    "    return weights[1, :]\n",
    "end"
   ]
  },
  {
   "cell_type": "markdown",
   "id": "720445a5",
   "metadata": {},
   "source": [
    "##  Test model\n",
    "\n"
   ]
  },
  {
   "cell_type": "code",
   "execution_count": 19,
   "id": "e0952f79",
   "metadata": {},
   "outputs": [
    {
     "data": {
      "text/plain": [
       "(300, 1)"
      ]
     },
     "execution_count": 19,
     "metadata": {},
     "output_type": "execute_result"
    }
   ],
   "source": [
    "# actual_y is converted to a matrix then transposed to make it match with y_preds\n",
    "actual_y = Matrix(actual_y)\n",
    "size(actual_y)"
   ]
  },
  {
   "cell_type": "code",
   "execution_count": 57,
   "id": "bd826351",
   "metadata": {},
   "outputs": [
    {
     "data": {
      "text/plain": [
       "7-element Vector{Float64}:\n",
       " 0.10346069991379644\n",
       " 0.9666439247572779\n",
       " 0.10308879983776553\n",
       " 0.04833880934355417\n",
       " 0.711494381446646\n",
       " 0.39532303329473706\n",
       " 0.1452455377689228"
      ]
     },
     "execution_count": 57,
     "metadata": {},
     "output_type": "execute_result"
    }
   ],
   "source": [
    "# train model\n",
    "param_vals=fit_linear_regression(Matrix(train_x), Matrix(actual_y'), 0.00001, 200000)"
   ]
  },
  {
   "cell_type": "code",
   "execution_count": 58,
   "id": "d25fb8ec",
   "metadata": {},
   "outputs": [
    {
     "data": {
      "text/plain": [
       "7-element Vector{Float64}:\n",
       " 0.10346069991379644\n",
       " 0.9666439247572779\n",
       " 0.10308879983776553\n",
       " 0.04833880934355417\n",
       " 0.711494381446646\n",
       " 0.39532303329473706\n",
       " 0.1452455377689228"
      ]
     },
     "execution_count": 58,
     "metadata": {},
     "output_type": "execute_result"
    }
   ],
   "source": [
    "copy_of_param_vals=param_vals"
   ]
  },
  {
   "cell_type": "code",
   "execution_count": null,
   "id": "d5c18aac",
   "metadata": {},
   "outputs": [],
   "source": []
  },
  {
   "cell_type": "markdown",
   "id": "5d4482a1",
   "metadata": {},
   "source": [
    "## Compare accuracy"
   ]
  },
  {
   "cell_type": "code",
   "execution_count": 59,
   "id": "504c2144",
   "metadata": {},
   "outputs": [],
   "source": [
    "# test_df.X6_longitude\n",
    "# test_df.Y_house_price_of_unit_area"
   ]
  },
  {
   "cell_type": "code",
   "execution_count": 60,
   "id": "5bf62fa5",
   "metadata": {},
   "outputs": [
    {
     "data": {
      "text/plain": [
       "1984.1371750889093"
      ]
     },
     "execution_count": 60,
     "metadata": {},
     "output_type": "execute_result"
    }
   ],
   "source": [
    "param_vals[1]+(param_vals[2]*2013)+(param_vals[3]*2.5)+(param_vals[4]*156.244)+(param_vals[5]*4)+(param_vals[6]*24.96696)+(param_vals[7]*121.53992)"
   ]
  },
  {
   "cell_type": "code",
   "execution_count": null,
   "id": "d6ab30a1",
   "metadata": {},
   "outputs": [],
   "source": []
  },
  {
   "cell_type": "code",
   "execution_count": null,
   "id": "dea55719",
   "metadata": {},
   "outputs": [],
   "source": []
  },
  {
   "cell_type": "code",
   "execution_count": null,
   "id": "313c8d29",
   "metadata": {},
   "outputs": [],
   "source": []
  },
  {
   "cell_type": "code",
   "execution_count": null,
   "id": "5da2a3bb",
   "metadata": {},
   "outputs": [],
   "source": []
  },
  {
   "cell_type": "code",
   "execution_count": null,
   "id": "7df8db5e",
   "metadata": {},
   "outputs": [],
   "source": []
  },
  {
   "cell_type": "code",
   "execution_count": null,
   "id": "c47d3954",
   "metadata": {},
   "outputs": [],
   "source": []
  },
  {
   "cell_type": "code",
   "execution_count": 111,
   "id": "2a214a69",
   "metadata": {},
   "outputs": [
    {
     "data": {
      "text/plain": [
       "tes (generic function with 1 method)"
      ]
     },
     "execution_count": 111,
     "metadata": {},
     "output_type": "execute_result"
    }
   ],
   "source": [
    "function tes(m::Matrix{Float64})::Matrix{Float64}\n",
    "    m[1,2]=22\n",
    "    return m\n",
    "end"
   ]
  },
  {
   "cell_type": "code",
   "execution_count": 112,
   "id": "d16e608c",
   "metadata": {},
   "outputs": [
    {
     "data": {
      "text/plain": [
       "1×3 Matrix{Float64}:\n",
       " 1.0  1.0  1.0"
      ]
     },
     "execution_count": 112,
     "metadata": {},
     "output_type": "execute_result"
    }
   ],
   "source": [
    "m=ones(1,3)"
   ]
  },
  {
   "cell_type": "code",
   "execution_count": 115,
   "id": "9878d185",
   "metadata": {},
   "outputs": [
    {
     "data": {
      "text/plain": [
       "3-element Vector{Float64}:\n",
       "  1.0\n",
       " 22.0\n",
       "  1.0"
      ]
     },
     "execution_count": 115,
     "metadata": {},
     "output_type": "execute_result"
    }
   ],
   "source": [
    "vec=m[1,:]\n"
   ]
  },
  {
   "cell_type": "code",
   "execution_count": 42,
   "id": "377af204",
   "metadata": {},
   "outputs": [
    {
     "data": {
      "text/plain": [
       "1×3 Matrix{Float64}:\n",
       " 0.823583  0.286511  0.453846"
      ]
     },
     "execution_count": 42,
     "metadata": {},
     "output_type": "execute_result"
    }
   ],
   "source": [
    "rand(1,3)"
   ]
  },
  {
   "cell_type": "code",
   "execution_count": null,
   "id": "520770e9",
   "metadata": {},
   "outputs": [],
   "source": []
  },
  {
   "cell_type": "code",
   "execution_count": 32,
   "id": "24d3c245",
   "metadata": {},
   "outputs": [
    {
     "data": {
      "text/plain": [
       "414"
      ]
     },
     "execution_count": 32,
     "metadata": {},
     "output_type": "execute_result"
    }
   ],
   "source": [
    "xmat=Matrix(train_x)\n",
    "size(xmat)[1]"
   ]
  },
  {
   "cell_type": "code",
   "execution_count": 37,
   "id": "c6e95693",
   "metadata": {},
   "outputs": [
    {
     "data": {
      "text/plain": [
       "-0.8226878210261311"
      ]
     },
     "execution_count": 37,
     "metadata": {},
     "output_type": "execute_result"
    }
   ],
   "source": [
    "xmat[2, 1]"
   ]
  },
  {
   "cell_type": "code",
   "execution_count": 40,
   "id": "a5544ca0",
   "metadata": {},
   "outputs": [
    {
     "data": {
      "text/plain": [
       "414×7 Matrix{Float64}:\n",
       " 1.0  -0.822688   1.25411    -0.791537   2.00498    1.12407    0.44822\n",
       " 1.0  -0.822688   0.156896   -0.615866   1.66549    0.911342   0.400654\n",
       " 1.0   1.53929   -0.387322   -0.413515   0.307513   1.48506    0.687352\n",
       " 1.0   1.24493   -0.387322   -0.413515   0.307513   1.48506    0.687352\n",
       " 1.0  -1.12059   -1.11587    -0.549332   0.307513   0.83318    0.59222\n",
       " 1.0  -1.70932   -0.93154     0.86454   -0.371475  -0.481868  -1.35667\n",
       " 1.0  -1.70932    1.47355    -0.364796   0.9865     0.829957   0.199314\n",
       " 1.0   0.950568   0.227118   -0.630914   0.647006   0.917788   0.581143\n",
       " 1.0   1.24493    1.22778     3.50853   -1.05046   -1.45687   -3.1785\n",
       " 1.0   0.950568   0.0164529   0.554068  -0.371475  -0.138602  -1.2055\n",
       " 1.0  -0.233967   1.49989    -0.537728  -1.05046    0.359376   0.0233862\n",
       " 1.0   0.652661  -1.00176    -0.787118   1.66549    0.427062   0.634573\n",
       " 1.0  -0.822688  -0.413655   -0.468782   0.307513  -0.312652   0.261215\n",
       " ⋮                                                  ⋮         \n",
       " 1.0  -1.12059   -0.439988   -0.710242  -1.05046    0.390802  -0.231384\n",
       " 1.0  -1.70932    1.15756    -0.730478   1.66549    1.16839    0.410428\n",
       " 1.0   0.652661  -0.115213   -0.62955    0.307513   1.04752    0.659334\n",
       " 1.0  -1.70932    0.464116   -0.754999   0.647006  -0.999184   0.279459\n",
       " 1.0   0.06394   -1.38798    -0.563934   0.9865     0.314252   0.449523\n",
       " 1.0  -0.528327  -1.09832     1.04991   -1.38996   -1.1265     1.7123\n",
       " 1.0   0.950568   0.0691192   0.865106  -0.371475  -0.461723  -1.36384\n",
       " 1.0  -0.528327  -0.352211    2.37549   -1.38996   -2.21431   -1.92551\n",
       " 1.0  -1.70932   -1.06321    -0.787118   1.66549    0.427062   0.634573\n",
       " 1.0   0.3583     0.0954524  -0.549014   0.9865     0.821899   0.42346\n",
       " 1.0  -0.528327  -0.843763   -0.775745   0.307513  -0.184532   0.476238\n",
       " 1.0   1.24493   -0.984207   -0.787118   1.66549    0.427062   0.634573"
      ]
     },
     "execution_count": 40,
     "metadata": {},
     "output_type": "execute_result"
    }
   ],
   "source": [
    "xmat\n",
    "hcat(ones(size(xmat)[1], 1), xmat)"
   ]
  },
  {
   "cell_type": "code",
   "execution_count": null,
   "id": "29e3c0bd",
   "metadata": {},
   "outputs": [],
   "source": []
  },
  {
   "cell_type": "code",
   "execution_count": null,
   "id": "507f129a",
   "metadata": {},
   "outputs": [],
   "source": []
  }
 ],
 "metadata": {
  "kernelspec": {
   "display_name": "Julia 1.7.1",
   "language": "julia",
   "name": "julia-1.7"
  },
  "language_info": {
   "file_extension": ".jl",
   "mimetype": "application/julia",
   "name": "julia",
   "version": "1.7.1"
  }
 },
 "nbformat": 4,
 "nbformat_minor": 5
}
