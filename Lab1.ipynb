{
 "cells": [
  {
   "cell_type": "markdown",
   "id": "361b170f",
   "metadata": {},
   "source": [
    "## IO"
   ]
  },
  {
   "cell_type": "code",
   "execution_count": 17,
   "id": "84517838",
   "metadata": {
    "code_folding": []
   },
   "outputs": [
    {
     "data": {
      "text/plain": [
       "6"
      ]
     },
     "execution_count": 17,
     "metadata": {},
     "output_type": "execute_result"
    }
   ],
   "source": [
    "open(\"temp.txt\",\"w\") do io\n",
    "    write(io,\"i suck\")\n",
    "end\n",
    "\n"
   ]
  },
  {
   "cell_type": "code",
   "execution_count": 35,
   "id": "faf9ee43",
   "metadata": {},
   "outputs": [
    {
     "data": {
      "text/plain": [
       "readTempFile (generic function with 2 methods)"
      ]
     },
     "execution_count": 35,
     "metadata": {},
     "output_type": "execute_result"
    }
   ],
   "source": [
    "function readTempFile(fname::AbstractString)\n",
    "    open(f->read(f,String), fname)\n",
    "end"
   ]
  },
  {
   "cell_type": "code",
   "execution_count": 19,
   "id": "34117699",
   "metadata": {},
   "outputs": [
    {
     "data": {
      "text/plain": [
       "remTempFile (generic function with 1 method)"
      ]
     },
     "execution_count": 19,
     "metadata": {},
     "output_type": "execute_result"
    }
   ],
   "source": [
    "function remTempFile()\n",
    "    rm(\"temp.txt\")\n",
    "end"
   ]
  },
  {
   "cell_type": "code",
   "execution_count": 22,
   "id": "71fdf784",
   "metadata": {},
   "outputs": [
    {
     "data": {
      "text/plain": [
       "12"
      ]
     },
     "execution_count": 22,
     "metadata": {},
     "output_type": "execute_result"
    }
   ],
   "source": [
    "open(\"temp.txt\",\"a\") do io\n",
    "    write(io,\" i really do\")\n",
    "end"
   ]
  },
  {
   "cell_type": "code",
   "execution_count": 36,
   "id": "dec9388d",
   "metadata": {},
   "outputs": [
    {
     "data": {
      "text/plain": [
       "\"i suck\\n i really do i really do\""
      ]
     },
     "execution_count": 36,
     "metadata": {},
     "output_type": "execute_result"
    }
   ],
   "source": [
    "readTempFile(\"temp.txt\")"
   ]
  },
  {
   "cell_type": "code",
   "execution_count": null,
   "id": "3b35f06b",
   "metadata": {},
   "outputs": [],
   "source": []
  },
  {
   "cell_type": "markdown",
   "id": "8fb4c2ed",
   "metadata": {},
   "source": [
    "## CSV"
   ]
  },
  {
   "cell_type": "code",
   "execution_count": null,
   "id": "baec3d16",
   "metadata": {
    "scrolled": false
   },
   "outputs": [],
   "source": [
    "using Pkg\n",
    "Pkg.add(\"DataFrames\")"
   ]
  },
  {
   "cell_type": "code",
   "execution_count": null,
   "id": "558d058d",
   "metadata": {},
   "outputs": [],
   "source": [
    "open(\"testCSV.csv\",\"w\")"
   ]
  },
  {
   "cell_type": "code",
   "execution_count": 29,
   "id": "78cd54d8",
   "metadata": {},
   "outputs": [],
   "source": [
    "using CSV\n",
    "using DataFrames"
   ]
  },
  {
   "cell_type": "code",
   "execution_count": 31,
   "id": "b35374e5",
   "metadata": {},
   "outputs": [
    {
     "data": {
      "text/html": [
       "<div class=\"data-frame\"><p>4 rows × 3 columns</p><table class=\"data-frame\"><thead><tr><th></th><th>NAME</th><th>AGE</th><th>SALARY</th></tr><tr><th></th><th title=\"String\">String</th><th title=\"Int64\">Int64</th><th title=\"Int64\">Int64</th></tr></thead><tbody><tr><th>1</th><td>skjdnf</td><td>1</td><td>1212</td></tr><tr><th>2</th><td>skdjfn</td><td>2</td><td>234</td></tr><tr><th>3</th><td>sdkjnf</td><td>3</td><td>234</td></tr><tr><th>4</th><td>fnn</td><td>4</td><td>5545445</td></tr></tbody></table></div>"
      ],
      "text/latex": [
       "\\begin{tabular}{r|ccc}\n",
       "\t& NAME & AGE & SALARY\\\\\n",
       "\t\\hline\n",
       "\t& String & Int64 & Int64\\\\\n",
       "\t\\hline\n",
       "\t1 & skjdnf & 1 & 1212 \\\\\n",
       "\t2 & skdjfn & 2 & 234 \\\\\n",
       "\t3 & sdkjnf & 3 & 234 \\\\\n",
       "\t4 & fnn & 4 & 5545445 \\\\\n",
       "\\end{tabular}\n"
      ],
      "text/plain": [
       "\u001b[1m4×3 DataFrame\u001b[0m\n",
       "\u001b[1m Row \u001b[0m│\u001b[1m NAME   \u001b[0m\u001b[1m AGE   \u001b[0m\u001b[1m SALARY  \u001b[0m\n",
       "\u001b[1m     \u001b[0m│\u001b[90m String \u001b[0m\u001b[90m Int64 \u001b[0m\u001b[90m Int64   \u001b[0m\n",
       "─────┼────────────────────────\n",
       "   1 │ skjdnf      1     1212\n",
       "   2 │ skdjfn      2      234\n",
       "   3 │ sdkjnf      3      234\n",
       "   4 │ fnn         4  5545445"
      ]
     },
     "execution_count": 31,
     "metadata": {},
     "output_type": "execute_result"
    }
   ],
   "source": [
    "df=DataFrame(\n",
    "    NAME=[\"skjdnf\",\"skdjfn\",\"sdkjnf\",\"fnn\"],\n",
    "    AGE=[1,2,3,4],\n",
    "    SALARY=[1212,234,234,5545445]\n",
    ")"
   ]
  },
  {
   "cell_type": "code",
   "execution_count": 32,
   "id": "0b403172",
   "metadata": {},
   "outputs": [
    {
     "data": {
      "text/plain": [
       "\"testCSV.csv\""
      ]
     },
     "execution_count": 32,
     "metadata": {},
     "output_type": "execute_result"
    }
   ],
   "source": [
    "CSV.write(\"testCSV.csv\",df)"
   ]
  },
  {
   "cell_type": "code",
   "execution_count": 42,
   "id": "a88ec26e",
   "metadata": {},
   "outputs": [
    {
     "data": {
      "text/html": [
       "<div class=\"data-frame\"><p>4 rows × 3 columns</p><table class=\"data-frame\"><thead><tr><th></th><th>NAME</th><th>AGE</th><th>SALARY</th></tr><tr><th></th><th title=\"String7\">String7</th><th title=\"Int64\">Int64</th><th title=\"Int64\">Int64</th></tr></thead><tbody><tr><th>1</th><td>skjdnf</td><td>1</td><td>1212</td></tr><tr><th>2</th><td>skdjfn</td><td>2</td><td>234</td></tr><tr><th>3</th><td>sdkjnf</td><td>3</td><td>234</td></tr><tr><th>4</th><td>fnn</td><td>4</td><td>5545445</td></tr></tbody></table></div>"
      ],
      "text/latex": [
       "\\begin{tabular}{r|ccc}\n",
       "\t& NAME & AGE & SALARY\\\\\n",
       "\t\\hline\n",
       "\t& String7 & Int64 & Int64\\\\\n",
       "\t\\hline\n",
       "\t1 & skjdnf & 1 & 1212 \\\\\n",
       "\t2 & skdjfn & 2 & 234 \\\\\n",
       "\t3 & sdkjnf & 3 & 234 \\\\\n",
       "\t4 & fnn & 4 & 5545445 \\\\\n",
       "\\end{tabular}\n"
      ],
      "text/plain": [
       "\u001b[1m4×3 DataFrame\u001b[0m\n",
       "\u001b[1m Row \u001b[0m│\u001b[1m NAME    \u001b[0m\u001b[1m AGE   \u001b[0m\u001b[1m SALARY  \u001b[0m\n",
       "\u001b[1m     \u001b[0m│\u001b[90m String7 \u001b[0m\u001b[90m Int64 \u001b[0m\u001b[90m Int64   \u001b[0m\n",
       "─────┼─────────────────────────\n",
       "   1 │ skjdnf       1     1212\n",
       "   2 │ skdjfn       2      234\n",
       "   3 │ sdkjnf       3      234\n",
       "   4 │ fnn          4  5545445"
      ]
     },
     "execution_count": 42,
     "metadata": {},
     "output_type": "execute_result"
    }
   ],
   "source": [
    "CSV.read(\"testCSV.csv\",DataFrame)"
   ]
  },
  {
   "cell_type": "code",
   "execution_count": null,
   "id": "6b45d2e9",
   "metadata": {},
   "outputs": [],
   "source": []
  },
  {
   "cell_type": "markdown",
   "id": "86510545",
   "metadata": {},
   "source": [
    "## Matrices"
   ]
  },
  {
   "cell_type": "code",
   "execution_count": 56,
   "id": "5fc92d12",
   "metadata": {},
   "outputs": [
    {
     "data": {
      "text/plain": [
       "createMatrix (generic function with 2 methods)"
      ]
     },
     "execution_count": 56,
     "metadata": {},
     "output_type": "execute_result"
    }
   ],
   "source": [
    "function createMatrix(n::Int64,m::Int64)\n",
    "    mtrx=zeros(Int64,n,m)\n",
    "    for i in eachindex(mtrx)\n",
    "        mtrx[i]=parse(Int64,readline())\n",
    "    end\n",
    "    println(mtrx)\n",
    "    return [minimum(mtrx),maximum(mtrx)]\n",
    "end"
   ]
  },
  {
   "cell_type": "code",
   "execution_count": 62,
   "id": "c7499fa3",
   "metadata": {},
   "outputs": [
    {
     "name": "stdout",
     "output_type": "stream",
     "text": [
      "stdin> 1\n",
      "stdin> 2\n",
      "stdin> 3\n",
      "stdin> 4\n",
      "stdin> 5\n",
      "stdin> 6\n",
      "[1 3 5; 2 4 6]\n",
      "min: 1, max: 6\n"
     ]
    }
   ],
   "source": [
    "minMax=createMatrix(2,3)\n",
    "println(\"min: $(minMax[1]), max: $(minMax[2])\")"
   ]
  },
  {
   "cell_type": "code",
   "execution_count": null,
   "id": "538e4626",
   "metadata": {},
   "outputs": [],
   "source": []
  }
 ],
 "metadata": {
  "kernelspec": {
   "display_name": "Julia 1.7.1",
   "language": "julia",
   "name": "julia-1.7"
  },
  "language_info": {
   "file_extension": ".jl",
   "mimetype": "application/julia",
   "name": "julia",
   "version": "1.7.1"
  }
 },
 "nbformat": 4,
 "nbformat_minor": 5
}
