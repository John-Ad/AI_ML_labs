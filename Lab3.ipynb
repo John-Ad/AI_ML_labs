{
 "cells": [
  {
   "cell_type": "code",
   "execution_count": 73,
   "id": "de4ac6eb",
   "metadata": {},
   "outputs": [],
   "source": [
    "using DataFrames\n",
    "using CSV\n",
    "using Plots\n",
    "using StatsBase\n",
    "using Statistics"
   ]
  },
  {
   "cell_type": "code",
   "execution_count": 74,
   "id": "9b0c34b0",
   "metadata": {},
   "outputs": [
    {
     "data": {
      "text/html": [
       "<table class=\"data-frame\"><thead><tr><th></th><th>male</th><th>age</th><th>education</th><th>currentSmoker</th><th>cigsPerDay</th><th>BPMeds</th><th>prevalentStroke</th><th>prevalentHyp</th></tr><tr><th></th><th>Int64</th><th>Int64</th><th>String3</th><th>Int64</th><th>String3</th><th>String3</th><th>Int64</th><th>Int64</th></tr></thead><tbody><p>3 rows × 16 columns (omitted printing of 8 columns)</p><tr><th>1</th><td>1</td><td>39</td><td>4</td><td>0</td><td>0</td><td>0</td><td>0</td><td>0</td></tr><tr><th>2</th><td>0</td><td>46</td><td>2</td><td>0</td><td>0</td><td>0</td><td>0</td><td>0</td></tr><tr><th>3</th><td>1</td><td>48</td><td>1</td><td>1</td><td>20</td><td>0</td><td>0</td><td>0</td></tr></tbody></table>"
      ],
      "text/latex": [
       "\\begin{tabular}{r|ccccccccc}\n",
       "\t& male & age & education & currentSmoker & cigsPerDay & BPMeds & prevalentStroke & prevalentHyp & \\\\\n",
       "\t\\hline\n",
       "\t& Int64 & Int64 & String3 & Int64 & String3 & String3 & Int64 & Int64 & \\\\\n",
       "\t\\hline\n",
       "\t1 & 1 & 39 & 4 & 0 & 0 & 0 & 0 & 0 & $\\dots$ \\\\\n",
       "\t2 & 0 & 46 & 2 & 0 & 0 & 0 & 0 & 0 & $\\dots$ \\\\\n",
       "\t3 & 1 & 48 & 1 & 1 & 20 & 0 & 0 & 0 & $\\dots$ \\\\\n",
       "\\end{tabular}\n"
      ],
      "text/plain": [
       "\u001b[1m3×16 DataFrame\u001b[0m\n",
       "\u001b[1m Row \u001b[0m│\u001b[1m male  \u001b[0m\u001b[1m age   \u001b[0m\u001b[1m education \u001b[0m\u001b[1m currentSmoker \u001b[0m\u001b[1m cigsPerDay \u001b[0m\u001b[1m BPMeds  \u001b[0m\u001b[1m prevalentS\u001b[0m ⋯\n",
       "\u001b[1m     \u001b[0m│\u001b[90m Int64 \u001b[0m\u001b[90m Int64 \u001b[0m\u001b[90m String3   \u001b[0m\u001b[90m Int64         \u001b[0m\u001b[90m String3    \u001b[0m\u001b[90m String3 \u001b[0m\u001b[90m Int64     \u001b[0m ⋯\n",
       "─────┼──────────────────────────────────────────────────────────────────────────\n",
       "   1 │     1     39  4                      0  0           0                   ⋯\n",
       "   2 │     0     46  2                      0  0           0\n",
       "   3 │     1     48  1                      1  20          0\n",
       "\u001b[36m                                                              10 columns omitted\u001b[0m"
      ]
     },
     "execution_count": 74,
     "metadata": {},
     "output_type": "execute_result"
    }
   ],
   "source": [
    "df=CSV.read(\"./heart-disease.csv\", DataFrame)\n",
    "first(df,3)"
   ]
  },
  {
   "cell_type": "code",
   "execution_count": 75,
   "id": "42c17ff8",
   "metadata": {},
   "outputs": [
    {
     "data": {
      "text/html": [
       "<table class=\"data-frame\"><thead><tr><th></th><th>male</th><th>age</th><th>currentSmoker</th><th>cigsPerDay</th><th>BPMeds</th><th>prevalentStroke</th><th>prevalentHyp</th></tr><tr><th></th><th>Int64</th><th>Int64</th><th>Int64</th><th>String3</th><th>String3</th><th>Int64</th><th>Int64</th></tr></thead><tbody><p>3 rows × 15 columns (omitted printing of 8 columns)</p><tr><th>1</th><td>1</td><td>39</td><td>0</td><td>0</td><td>0</td><td>0</td><td>0</td></tr><tr><th>2</th><td>0</td><td>46</td><td>0</td><td>0</td><td>0</td><td>0</td><td>0</td></tr><tr><th>3</th><td>1</td><td>48</td><td>1</td><td>20</td><td>0</td><td>0</td><td>0</td></tr></tbody></table>"
      ],
      "text/latex": [
       "\\begin{tabular}{r|cccccccc}\n",
       "\t& male & age & currentSmoker & cigsPerDay & BPMeds & prevalentStroke & prevalentHyp & \\\\\n",
       "\t\\hline\n",
       "\t& Int64 & Int64 & Int64 & String3 & String3 & Int64 & Int64 & \\\\\n",
       "\t\\hline\n",
       "\t1 & 1 & 39 & 0 & 0 & 0 & 0 & 0 & $\\dots$ \\\\\n",
       "\t2 & 0 & 46 & 0 & 0 & 0 & 0 & 0 & $\\dots$ \\\\\n",
       "\t3 & 1 & 48 & 1 & 20 & 0 & 0 & 0 & $\\dots$ \\\\\n",
       "\\end{tabular}\n"
      ],
      "text/plain": [
       "\u001b[1m3×15 DataFrame\u001b[0m\n",
       "\u001b[1m Row \u001b[0m│\u001b[1m male  \u001b[0m\u001b[1m age   \u001b[0m\u001b[1m currentSmoker \u001b[0m\u001b[1m cigsPerDay \u001b[0m\u001b[1m BPMeds  \u001b[0m\u001b[1m prevalentStroke \u001b[0m\u001b[1m prev\u001b[0m ⋯\n",
       "\u001b[1m     \u001b[0m│\u001b[90m Int64 \u001b[0m\u001b[90m Int64 \u001b[0m\u001b[90m Int64         \u001b[0m\u001b[90m String3    \u001b[0m\u001b[90m String3 \u001b[0m\u001b[90m Int64           \u001b[0m\u001b[90m Int6\u001b[0m ⋯\n",
       "─────┼──────────────────────────────────────────────────────────────────────────\n",
       "   1 │     1     39              0  0           0                      0       ⋯\n",
       "   2 │     0     46              0  0           0                      0\n",
       "   3 │     1     48              1  20          0                      0\n",
       "\u001b[36m                                                               9 columns omitted\u001b[0m"
      ]
     },
     "execution_count": 75,
     "metadata": {},
     "output_type": "execute_result"
    }
   ],
   "source": [
    "# drop education column\n",
    "select!(df,Not(:education))\n",
    "first(df,3)"
   ]
  },
  {
   "cell_type": "code",
   "execution_count": 76,
   "id": "5c89f67f",
   "metadata": {},
   "outputs": [
    {
     "data": {
      "text/html": [
       "<table class=\"data-frame\"><thead><tr><th></th><th>variable</th><th>mean</th><th>min</th><th>median</th><th>max</th><th>nmissing</th><th>eltype</th></tr><tr><th></th><th>Symbol</th><th>Union…</th><th>Any</th><th>Union…</th><th>Any</th><th>Int64</th><th>DataType</th></tr></thead><tbody><p>15 rows × 7 columns</p><tr><th>1</th><td>male</td><td>0.429212</td><td>0</td><td>0.0</td><td>1</td><td>0</td><td>Int64</td></tr><tr><th>2</th><td>age</td><td>49.5849</td><td>32</td><td>49.0</td><td>70</td><td>0</td><td>Int64</td></tr><tr><th>3</th><td>currentSmoker</td><td>0.494101</td><td>0</td><td>0.0</td><td>1</td><td>0</td><td>Int64</td></tr><tr><th>4</th><td>cigsPerDay</td><td></td><td>0</td><td></td><td>NA</td><td>0</td><td>String3</td></tr><tr><th>5</th><td>BPMeds</td><td></td><td>0</td><td></td><td>NA</td><td>0</td><td>String3</td></tr><tr><th>6</th><td>prevalentStroke</td><td>0.00589901</td><td>0</td><td>0.0</td><td>1</td><td>0</td><td>Int64</td></tr><tr><th>7</th><td>prevalentHyp</td><td>0.310524</td><td>0</td><td>0.0</td><td>1</td><td>0</td><td>Int64</td></tr><tr><th>8</th><td>diabetes</td><td>0.0257197</td><td>0</td><td>0.0</td><td>1</td><td>0</td><td>Int64</td></tr><tr><th>9</th><td>totChol</td><td></td><td>107</td><td></td><td>NA</td><td>0</td><td>String3</td></tr><tr><th>10</th><td>sysBP</td><td>132.352</td><td>83.5</td><td>128.0</td><td>295.0</td><td>0</td><td>Float64</td></tr><tr><th>11</th><td>diaBP</td><td>82.8935</td><td>48.0</td><td>82.0</td><td>142.5</td><td>0</td><td>Float64</td></tr><tr><th>12</th><td>BMI</td><td></td><td>15.54</td><td></td><td>NA</td><td>0</td><td>String7</td></tr><tr><th>13</th><td>heartRate</td><td></td><td>100</td><td></td><td>NA</td><td>0</td><td>String3</td></tr><tr><th>14</th><td>glucose</td><td></td><td>100</td><td></td><td>NA</td><td>0</td><td>String3</td></tr><tr><th>15</th><td>TenYearCHD</td><td>0.151958</td><td>0</td><td>0.0</td><td>1</td><td>0</td><td>Int64</td></tr></tbody></table>"
      ],
      "text/latex": [
       "\\begin{tabular}{r|ccccccc}\n",
       "\t& variable & mean & min & median & max & nmissing & eltype\\\\\n",
       "\t\\hline\n",
       "\t& Symbol & Union… & Any & Union… & Any & Int64 & DataType\\\\\n",
       "\t\\hline\n",
       "\t1 & male & 0.429212 & 0 & 0.0 & 1 & 0 & Int64 \\\\\n",
       "\t2 & age & 49.5849 & 32 & 49.0 & 70 & 0 & Int64 \\\\\n",
       "\t3 & currentSmoker & 0.494101 & 0 & 0.0 & 1 & 0 & Int64 \\\\\n",
       "\t4 & cigsPerDay &  & 0 &  & NA & 0 & String3 \\\\\n",
       "\t5 & BPMeds &  & 0 &  & NA & 0 & String3 \\\\\n",
       "\t6 & prevalentStroke & 0.00589901 & 0 & 0.0 & 1 & 0 & Int64 \\\\\n",
       "\t7 & prevalentHyp & 0.310524 & 0 & 0.0 & 1 & 0 & Int64 \\\\\n",
       "\t8 & diabetes & 0.0257197 & 0 & 0.0 & 1 & 0 & Int64 \\\\\n",
       "\t9 & totChol &  & 107 &  & NA & 0 & String3 \\\\\n",
       "\t10 & sysBP & 132.352 & 83.5 & 128.0 & 295.0 & 0 & Float64 \\\\\n",
       "\t11 & diaBP & 82.8935 & 48.0 & 82.0 & 142.5 & 0 & Float64 \\\\\n",
       "\t12 & BMI &  & 15.54 &  & NA & 0 & String7 \\\\\n",
       "\t13 & heartRate &  & 100 &  & NA & 0 & String3 \\\\\n",
       "\t14 & glucose &  & 100 &  & NA & 0 & String3 \\\\\n",
       "\t15 & TenYearCHD & 0.151958 & 0 & 0.0 & 1 & 0 & Int64 \\\\\n",
       "\\end{tabular}\n"
      ],
      "text/plain": [
       "\u001b[1m15×7 DataFrame\u001b[0m\n",
       "\u001b[1m Row \u001b[0m│\u001b[1m variable        \u001b[0m\u001b[1m mean       \u001b[0m\u001b[1m min   \u001b[0m\u001b[1m median \u001b[0m\u001b[1m max   \u001b[0m\u001b[1m nmissing \u001b[0m\u001b[1m eltype   \u001b[0m\n",
       "\u001b[1m     \u001b[0m│\u001b[90m Symbol          \u001b[0m\u001b[90m Union…     \u001b[0m\u001b[90m Any   \u001b[0m\u001b[90m Union… \u001b[0m\u001b[90m Any   \u001b[0m\u001b[90m Int64    \u001b[0m\u001b[90m DataType \u001b[0m\n",
       "─────┼───────────────────────────────────────────────────────────────────────\n",
       "   1 │ male             0.429212    0      0.0     1             0  Int64\n",
       "   2 │ age              49.5849     32     49.0    70            0  Int64\n",
       "   3 │ currentSmoker    0.494101    0      0.0     1             0  Int64\n",
       "   4 │ cigsPerDay      \u001b[90m            \u001b[0m 0     \u001b[90m        \u001b[0m NA            0  String3\n",
       "   5 │ BPMeds          \u001b[90m            \u001b[0m 0     \u001b[90m        \u001b[0m NA            0  String3\n",
       "   6 │ prevalentStroke  0.00589901  0      0.0     1             0  Int64\n",
       "   7 │ prevalentHyp     0.310524    0      0.0     1             0  Int64\n",
       "   8 │ diabetes         0.0257197   0      0.0     1             0  Int64\n",
       "   9 │ totChol         \u001b[90m            \u001b[0m 107   \u001b[90m        \u001b[0m NA            0  String3\n",
       "  10 │ sysBP            132.352     83.5   128.0   295.0         0  Float64\n",
       "  11 │ diaBP            82.8935     48.0   82.0    142.5         0  Float64\n",
       "  12 │ BMI             \u001b[90m            \u001b[0m 15.54 \u001b[90m        \u001b[0m NA            0  String7\n",
       "  13 │ heartRate       \u001b[90m            \u001b[0m 100   \u001b[90m        \u001b[0m NA            0  String3\n",
       "  14 │ glucose         \u001b[90m            \u001b[0m 100   \u001b[90m        \u001b[0m NA            0  String3\n",
       "  15 │ TenYearCHD       0.151958    0      0.0     1             0  Int64"
      ]
     },
     "execution_count": 76,
     "metadata": {},
     "output_type": "execute_result"
    }
   ],
   "source": [
    "# describe data\n",
    "describe(df)"
   ]
  },
  {
   "cell_type": "code",
   "execution_count": 77,
   "id": "e6f8a1da",
   "metadata": {},
   "outputs": [
    {
     "data": {
      "text/plain": [
       "(3749, 15)"
      ]
     },
     "execution_count": 77,
     "metadata": {},
     "output_type": "execute_result"
    }
   ],
   "source": [
    "# drop all rows with NA as a value in any col\n",
    "df=df[ (df.cigsPerDay .!= \"NA\") .& (df.BPMeds .!= \"NA\"), :]\n",
    "df=df[ (df.totChol .!= \"NA\") .& (df.BMI .!= \"NA\"), :]\n",
    "df=df[ (df.heartRate .!= \"NA\") .& (df.glucose .!= \"NA\"), :]\n",
    "size(df)"
   ]
  },
  {
   "cell_type": "code",
   "execution_count": 78,
   "id": "84d97eff",
   "metadata": {},
   "outputs": [
    {
     "data": {
      "text/html": [
       "<table class=\"data-frame\"><thead><tr><th></th><th>variable</th><th>mean</th><th>min</th><th>median</th><th>max</th><th>nmissing</th><th>eltype</th></tr><tr><th></th><th>Symbol</th><th>Float64</th><th>Real</th><th>Float64</th><th>Real</th><th>Int64</th><th>DataType</th></tr></thead><tbody><p>15 rows × 7 columns</p><tr><th>1</th><td>male</td><td>0.445185</td><td>0</td><td>0.0</td><td>1</td><td>0</td><td>Int64</td></tr><tr><th>2</th><td>age</td><td>49.5788</td><td>32</td><td>49.0</td><td>70</td><td>0</td><td>Int64</td></tr><tr><th>3</th><td>currentSmoker</td><td>0.488397</td><td>0</td><td>0.0</td><td>1</td><td>0</td><td>Int64</td></tr><tr><th>4</th><td>cigsPerDay</td><td>9.00533</td><td>0.0</td><td>0.0</td><td>70.0</td><td>0</td><td>Float64</td></tr><tr><th>5</th><td>BPMeds</td><td>0.0304081</td><td>0.0</td><td>0.0</td><td>1.0</td><td>0</td><td>Float64</td></tr><tr><th>6</th><td>prevalentStroke</td><td>0.00560149</td><td>0</td><td>0.0</td><td>1</td><td>0</td><td>Int64</td></tr><tr><th>7</th><td>prevalentHyp</td><td>0.311816</td><td>0</td><td>0.0</td><td>1</td><td>0</td><td>Int64</td></tr><tr><th>8</th><td>diabetes</td><td>0.0272073</td><td>0</td><td>0.0</td><td>1</td><td>0</td><td>Int64</td></tr><tr><th>9</th><td>totChol</td><td>236.953</td><td>113.0</td><td>234.0</td><td>696.0</td><td>0</td><td>Float64</td></tr><tr><th>10</th><td>sysBP</td><td>132.366</td><td>83.5</td><td>128.0</td><td>295.0</td><td>0</td><td>Float64</td></tr><tr><th>11</th><td>diaBP</td><td>82.9337</td><td>48.0</td><td>82.0</td><td>142.5</td><td>0</td><td>Float64</td></tr><tr><th>12</th><td>BMI</td><td>25.8097</td><td>15.54</td><td>25.41</td><td>56.8</td><td>0</td><td>Float64</td></tr><tr><th>13</th><td>heartRate</td><td>75.7039</td><td>44.0</td><td>75.0</td><td>143.0</td><td>0</td><td>Float64</td></tr><tr><th>14</th><td>glucose</td><td>81.8832</td><td>40.0</td><td>78.0</td><td>394.0</td><td>0</td><td>Float64</td></tr><tr><th>15</th><td>TenYearCHD</td><td>0.152574</td><td>0</td><td>0.0</td><td>1</td><td>0</td><td>Int64</td></tr></tbody></table>"
      ],
      "text/latex": [
       "\\begin{tabular}{r|ccccccc}\n",
       "\t& variable & mean & min & median & max & nmissing & eltype\\\\\n",
       "\t\\hline\n",
       "\t& Symbol & Float64 & Real & Float64 & Real & Int64 & DataType\\\\\n",
       "\t\\hline\n",
       "\t1 & male & 0.445185 & 0 & 0.0 & 1 & 0 & Int64 \\\\\n",
       "\t2 & age & 49.5788 & 32 & 49.0 & 70 & 0 & Int64 \\\\\n",
       "\t3 & currentSmoker & 0.488397 & 0 & 0.0 & 1 & 0 & Int64 \\\\\n",
       "\t4 & cigsPerDay & 9.00533 & 0.0 & 0.0 & 70.0 & 0 & Float64 \\\\\n",
       "\t5 & BPMeds & 0.0304081 & 0.0 & 0.0 & 1.0 & 0 & Float64 \\\\\n",
       "\t6 & prevalentStroke & 0.00560149 & 0 & 0.0 & 1 & 0 & Int64 \\\\\n",
       "\t7 & prevalentHyp & 0.311816 & 0 & 0.0 & 1 & 0 & Int64 \\\\\n",
       "\t8 & diabetes & 0.0272073 & 0 & 0.0 & 1 & 0 & Int64 \\\\\n",
       "\t9 & totChol & 236.953 & 113.0 & 234.0 & 696.0 & 0 & Float64 \\\\\n",
       "\t10 & sysBP & 132.366 & 83.5 & 128.0 & 295.0 & 0 & Float64 \\\\\n",
       "\t11 & diaBP & 82.9337 & 48.0 & 82.0 & 142.5 & 0 & Float64 \\\\\n",
       "\t12 & BMI & 25.8097 & 15.54 & 25.41 & 56.8 & 0 & Float64 \\\\\n",
       "\t13 & heartRate & 75.7039 & 44.0 & 75.0 & 143.0 & 0 & Float64 \\\\\n",
       "\t14 & glucose & 81.8832 & 40.0 & 78.0 & 394.0 & 0 & Float64 \\\\\n",
       "\t15 & TenYearCHD & 0.152574 & 0 & 0.0 & 1 & 0 & Int64 \\\\\n",
       "\\end{tabular}\n"
      ],
      "text/plain": [
       "\u001b[1m15×7 DataFrame\u001b[0m\n",
       "\u001b[1m Row \u001b[0m│\u001b[1m variable        \u001b[0m\u001b[1m mean         \u001b[0m\u001b[1m min   \u001b[0m\u001b[1m median  \u001b[0m\u001b[1m max   \u001b[0m\u001b[1m nmissing \u001b[0m\u001b[1m eltype \u001b[0m ⋯\n",
       "\u001b[1m     \u001b[0m│\u001b[90m Symbol          \u001b[0m\u001b[90m Float64      \u001b[0m\u001b[90m Real  \u001b[0m\u001b[90m Float64 \u001b[0m\u001b[90m Real  \u001b[0m\u001b[90m Int64    \u001b[0m\u001b[90m DataTyp\u001b[0m ⋯\n",
       "─────┼──────────────────────────────────────────────────────────────────────────\n",
       "   1 │ male               0.445185        0     0.0       1         0  Int64   ⋯\n",
       "   2 │ age               49.5788         32    49.0      70         0  Int64\n",
       "   3 │ currentSmoker      0.488397        0     0.0       1         0  Int64\n",
       "   4 │ cigsPerDay         9.00533       0.0     0.0    70.0         0  Float64\n",
       "   5 │ BPMeds             0.0304081     0.0     0.0     1.0         0  Float64 ⋯\n",
       "   6 │ prevalentStroke    0.00560149      0     0.0       1         0  Int64\n",
       "   7 │ prevalentHyp       0.311816        0     0.0       1         0  Int64\n",
       "   8 │ diabetes           0.0272073       0     0.0       1         0  Int64\n",
       "   9 │ totChol          236.953       113.0   234.0   696.0         0  Float64 ⋯\n",
       "  10 │ sysBP            132.366        83.5   128.0   295.0         0  Float64\n",
       "  11 │ diaBP             82.9337       48.0    82.0   142.5         0  Float64\n",
       "  12 │ BMI               25.8097      15.54    25.41   56.8         0  Float64\n",
       "  13 │ heartRate         75.7039       44.0    75.0   143.0         0  Float64 ⋯\n",
       "  14 │ glucose           81.8832       40.0    78.0   394.0         0  Float64\n",
       "  15 │ TenYearCHD         0.152574        0     0.0       1         0  Int64\n",
       "\u001b[36m                                                                1 column omitted\u001b[0m"
      ]
     },
     "execution_count": 78,
     "metadata": {},
     "output_type": "execute_result"
    }
   ],
   "source": [
    "# convert all string cols to float64\n",
    "\n",
    "df.cigsPerDay=[parse(Float64, x) for x in df.cigsPerDay]\n",
    "df.BPMeds=[parse(Float64, x) for x in df.BPMeds]\n",
    "df.totChol=[parse(Float64, x) for x in df.totChol]\n",
    "df.BMI=[parse(Float64, x) for x in df.BMI]\n",
    "df.heartRate=[parse(Float64, x) for x in df.heartRate]\n",
    "df.glucose=[parse(Float64, x) for x in df.glucose]\n",
    "\n",
    "describe(df)"
   ]
  },
  {
   "cell_type": "code",
   "execution_count": 79,
   "id": "6fac750f",
   "metadata": {},
   "outputs": [
    {
     "data": {
      "text/plain": [
       "(3749, 15)"
      ]
     },
     "execution_count": 79,
     "metadata": {},
     "output_type": "execute_result"
    }
   ],
   "source": [
    "size(df)"
   ]
  },
  {
   "cell_type": "code",
   "execution_count": 80,
   "id": "9a280491",
   "metadata": {},
   "outputs": [
    {
     "data": {
      "text/plain": [
       "normalize (generic function with 1 method)"
      ]
     },
     "execution_count": 80,
     "metadata": {},
     "output_type": "execute_result"
    }
   ],
   "source": [
    "#=\n",
    "    normalize a df based on the values of a second df passed in\n",
    "\n",
    "    params:\n",
    "    -------\n",
    "\n",
    "    df_to_normalize: DataFrame:  \n",
    "        df to be normalized\n",
    "    df_to_use_for_vals: DataFrame:  \n",
    "        df to be used to calculate mean and std\n",
    "\n",
    "    returns: Nothing\n",
    "    --------\n",
    "=#\n",
    "\n",
    "function normalize(df_to_normalize::DataFrame, df_to_use_for_vals::DataFrame)::DataFrame\n",
    "    \n",
    "    colNames=names(df_to_normalize)\n",
    "    \n",
    "    for cName in colNames  # loops through each column\n",
    "        vals=df_to_use_for_vals[:,cName] # make vector copy of values in column of df_to_use\n",
    "        std_dev=std(vals) # calculate standard deviation\n",
    "        mean_val=mean(vals) # calculate mean\n",
    "        \n",
    "        vals_to_norm=df_to_normalize[:,cName] # vals to norm\n",
    "        #=\n",
    "        use broadcast operator . to apply mathematical function to each element\n",
    "        in the column\n",
    "        \n",
    "        The function applied is: (x - mean) / std\n",
    "        \n",
    "        The dataframe to update then has its column updated with the \n",
    "        new values\n",
    "        =#\n",
    "        df_to_normalize[!, cName] = ((vals_to_norm .- mean_val) ./ std_dev) \n",
    "    end\n",
    "    \n",
    "    return df_to_normalize\n",
    "    \n",
    "end"
   ]
  },
  {
   "cell_type": "code",
   "execution_count": 81,
   "id": "60517abe",
   "metadata": {},
   "outputs": [
    {
     "name": "stdout",
     "output_type": "stream",
     "text": [
      "\u001b[1m1×1 DataFrame\u001b[0m\n",
      "\u001b[1m Row \u001b[0m│\u001b[1m TenYearCHD \u001b[0m\n",
      "\u001b[1m     \u001b[0m│\u001b[90m Int64      \u001b[0m\n",
      "─────┼────────────\n",
      "   1 │          0\n",
      "\u001b[1m1×1 DataFrame\u001b[0m\n",
      "\u001b[1m Row \u001b[0m│\u001b[1m TenYearCHD \u001b[0m\n",
      "\u001b[1m     \u001b[0m│\u001b[90m Int64      \u001b[0m\n",
      "─────┼────────────\n",
      "   1 │          0\n"
     ]
    }
   ],
   "source": [
    "# split data into training testing data\n",
    "non_norm_x=df[1:2200, Not(:TenYearCHD)]\n",
    "non_norm_y=df[1:2200, [:TenYearCHD]]\n",
    "\n",
    "train_x=df[1:2200, Not(:TenYearCHD)]\n",
    "train_y=df[1:2200, [:TenYearCHD]]\n",
    "\n",
    "test_x=df[2200:size(df)[1], Not(:TenYearCHD)]\n",
    "test_y=df[2200:size(df)[1], [:TenYearCHD]]\n",
    "\n",
    "\n",
    "\n",
    "println(first(train_y,1))\n",
    "println(first(test_y,1))\n",
    "\n"
   ]
  },
  {
   "cell_type": "code",
   "execution_count": 82,
   "id": "09551652",
   "metadata": {},
   "outputs": [
    {
     "data": {
      "text/html": [
       "<table class=\"data-frame\"><thead><tr><th></th><th>male</th><th>age</th><th>currentSmoker</th><th>cigsPerDay</th><th>BPMeds</th><th>prevalentStroke</th><th>prevalentHyp</th></tr><tr><th></th><th>Float64</th><th>Float64</th><th>Float64</th><th>Float64</th><th>Float64</th><th>Float64</th><th>Float64</th></tr></thead><tbody><p>3 rows × 14 columns (omitted printing of 7 columns)</p><tr><th>1</th><td>1.12998</td><td>-1.21833</td><td>-0.977303</td><td>-0.752133</td><td>-0.160092</td><td>-0.0640769</td><td>-0.654505</td></tr><tr><th>2</th><td>-0.88457</td><td>-0.408179</td><td>-0.977303</td><td>-0.752133</td><td>-0.160092</td><td>-0.0640769</td><td>-0.654505</td></tr><tr><th>3</th><td>1.12998</td><td>-0.176708</td><td>1.02276</td><td>0.928782</td><td>-0.160092</td><td>-0.0640769</td><td>-0.654505</td></tr></tbody></table>"
      ],
      "text/latex": [
       "\\begin{tabular}{r|cccccccc}\n",
       "\t& male & age & currentSmoker & cigsPerDay & BPMeds & prevalentStroke & prevalentHyp & \\\\\n",
       "\t\\hline\n",
       "\t& Float64 & Float64 & Float64 & Float64 & Float64 & Float64 & Float64 & \\\\\n",
       "\t\\hline\n",
       "\t1 & 1.12998 & -1.21833 & -0.977303 & -0.752133 & -0.160092 & -0.0640769 & -0.654505 & $\\dots$ \\\\\n",
       "\t2 & -0.88457 & -0.408179 & -0.977303 & -0.752133 & -0.160092 & -0.0640769 & -0.654505 & $\\dots$ \\\\\n",
       "\t3 & 1.12998 & -0.176708 & 1.02276 & 0.928782 & -0.160092 & -0.0640769 & -0.654505 & $\\dots$ \\\\\n",
       "\\end{tabular}\n"
      ],
      "text/plain": [
       "\u001b[1m3×14 DataFrame\u001b[0m\n",
       "\u001b[1m Row \u001b[0m│\u001b[1m male     \u001b[0m\u001b[1m age       \u001b[0m\u001b[1m currentSmoker \u001b[0m\u001b[1m cigsPerDay \u001b[0m\u001b[1m BPMeds    \u001b[0m\u001b[1m prevalentStr\u001b[0m ⋯\n",
       "\u001b[1m     \u001b[0m│\u001b[90m Float64  \u001b[0m\u001b[90m Float64   \u001b[0m\u001b[90m Float64       \u001b[0m\u001b[90m Float64    \u001b[0m\u001b[90m Float64   \u001b[0m\u001b[90m Float64     \u001b[0m ⋯\n",
       "─────┼──────────────────────────────────────────────────────────────────────────\n",
       "   1 │  1.12998  -1.21833       -0.977303   -0.752133  -0.160092       -0.0640 ⋯\n",
       "   2 │ -0.88457  -0.408179      -0.977303   -0.752133  -0.160092       -0.0640\n",
       "   3 │  1.12998  -0.176708       1.02276     0.928782  -0.160092       -0.0640\n",
       "\u001b[36m                                                               9 columns omitted\u001b[0m"
      ]
     },
     "execution_count": 82,
     "metadata": {},
     "output_type": "execute_result"
    }
   ],
   "source": [
    "# normalize data\n",
    "train_x=normalize(train_x, non_norm_x)\n",
    "train_y=normalize(train_y, non_norm_y)\n",
    "\n",
    "test_x=normalize(test_x, non_norm_x)\n",
    "test_y=normalize(test_y, non_norm_y)\n",
    "\n",
    "first(train_x, 3)"
   ]
  },
  {
   "cell_type": "code",
   "execution_count": null,
   "id": "dcf08a07",
   "metadata": {},
   "outputs": [],
   "source": []
  },
  {
   "attachments": {
    "image.png": {
     "image/png": "[encoded data removed]"
    }
   },
   "cell_type": "markdown",
   "id": "7541a981",
   "metadata": {},
   "source": [
    "## formula for Probability\n",
    "\n",
    "![image.png](attachment:image.png)\n"
   ]
  },
  {
   "cell_type": "code",
   "execution_count": 83,
   "id": "ab62c4c1",
   "metadata": {},
   "outputs": [
    {
     "name": "stdout",
     "output_type": "stream",
     "text": [
      "[1.0 1.0 1.0 1.0 1.0]\n"
     ]
    }
   ],
   "source": [
    "# Prediction function\n",
    "\n",
    "function predict(X::Matrix, W::Matrix)::Matrix\n",
    "    lin_preds = Matrix(Matrix(X * W)')\n",
    "    # transpose because julia matrix mult will return a col matrix \n",
    "    exp_preds = exp.(lin_preds .* -1)\n",
    "    sig_preds = (exp_preds .+ 1) .^ -1\n",
    "        \n",
    "    return sig_preds\n",
    "end\n",
    "\n",
    "xPred_test=[1 3 2 1 3; 1 5 4 3 5; 1 7 6 5 7; 1 2 1 0 2; 1 3 4 50 15]\n",
    "wPred_test=[0 5 10 -2 40]\n",
    "\n",
    "println(predict(xPred_test, Matrix(wPred_test')))\n",
    "# should output [1 1 1 1 1]\n",
    "# data should be normalized before use"
   ]
  },
  {
   "attachments": {
    "image.png": {
     "image/png": "[encoded data removed]"
    }
   },
   "cell_type": "markdown",
   "id": "a7288bb0",
   "metadata": {},
   "source": [
    "## Cost function\n",
    "\n",
    "![image.png](attachment:image.png)"
   ]
  },
  {
   "cell_type": "code",
   "execution_count": 84,
   "id": "20416921",
   "metadata": {},
   "outputs": [
    {
     "data": {
      "text/plain": [
       "0.3807196863200844"
      ]
     },
     "execution_count": 84,
     "metadata": {},
     "output_type": "execute_result"
    }
   ],
   "source": [
    "# cost function\n",
    "\n",
    "function cost(y_preds::Matrix, y_actual::Matrix)::Float64\n",
    "    total_cost=0\n",
    "    m=size(y_preds)[2]\n",
    "    \n",
    "    for i in 1:m\n",
    "        total_cost += ((y_actual[1, i] * log10(y_preds[1, i])) + ((1 - y_actual[1, i]) * log10(y_preds[1, i])))\n",
    "    end\n",
    "    \n",
    "    return -(1/m) * total_cost\n",
    "end\n",
    "\n",
    "y_pred_costTest=[1 0.5 0.6 0.1]\n",
    "y_actual_costTest=[1 0 1 0]\n",
    "\n",
    "# test cost\n",
    "cost(y_pred_costTest, y_actual_costTest)\n"
   ]
  },
  {
   "cell_type": "code",
   "execution_count": null,
   "id": "321f9b9e",
   "metadata": {},
   "outputs": [],
   "source": []
  },
  {
   "attachments": {
    "image.png": {
     "image/png": "[encoded data removed]"
    }
   },
   "cell_type": "markdown",
   "id": "0cf81ca0",
   "metadata": {},
   "source": [
    "## Gradient descent formula\n",
    "![image.png](attachment:image.png)\n",
    "\n",
    "### same as for linear regression"
   ]
  },
  {
   "cell_type": "code",
   "execution_count": 85,
   "id": "166400c7",
   "metadata": {},
   "outputs": [
    {
     "data": {
      "text/plain": [
       "grad_desc_cost (generic function with 1 method)"
      ]
     },
     "execution_count": 85,
     "metadata": {},
     "output_type": "execute_result"
    }
   ],
   "source": [
    "# gradient desc cost function\n",
    "\n",
    "function grad_desc_cost(x::Matrix, j::Int, y_preds::Matrix, y_actual::Matrix)\n",
    "    total_cost=0\n",
    "    m=size(y_preds)[2]\n",
    "    \n",
    "    for i in 1:m\n",
    "        total_cost += (y_preds[1, i] - y_actual[1, i]) * x[i, j]\n",
    "    end\n",
    "    \n",
    "    return (1/m) * total_cost\n",
    "end"
   ]
  },
  {
   "cell_type": "code",
   "execution_count": 86,
   "id": "8d41d773",
   "metadata": {},
   "outputs": [
    {
     "data": {
      "text/plain": [
       "grad_weight_update (generic function with 1 method)"
      ]
     },
     "execution_count": 86,
     "metadata": {},
     "output_type": "execute_result"
    }
   ],
   "source": [
    "# gradient descent weight calculations\n",
    "\n",
    "function grad_weight_update(learning_rate::Float64, x::Matrix, w::Matrix, y_preds::Matrix, y_actual::Matrix)::Matrix\n",
    "    \n",
    "    for j in 1:size(w)[2] \n",
    "       w[1, j] = w[1, j] - (learning_rate * grad_desc_cost(x, j, y_preds, y_actual)) \n",
    "    end\n",
    "    \n",
    "    return w\n",
    "end"
   ]
  },
  {
   "cell_type": "code",
   "execution_count": null,
   "id": "29b705ec",
   "metadata": {},
   "outputs": [],
   "source": []
  },
  {
   "cell_type": "code",
   "execution_count": 96,
   "id": "4bc855f4",
   "metadata": {},
   "outputs": [
    {
     "data": {
      "text/plain": [
       "fit_model (generic function with 2 methods)"
      ]
     },
     "execution_count": 96,
     "metadata": {},
     "output_type": "execute_result"
    }
   ],
   "source": [
    "# train model function\n",
    "\n",
    "function fit_model(x::Matrix, y::Matrix, epochs::Int, learning_rate::Float64)\n",
    "    \n",
    "    # concat a column of ones to x matrix that will represent y intercept\n",
    "    x = hcat(ones(size(x)[1], 1), x)\n",
    "    \n",
    "    # create weights with random values\n",
    "    w = rand(1, size(x)[2])\n",
    "    \n",
    "    for i in 1:epochs\n",
    "        y_preds = predict(x, Matrix(w'))\n",
    "         println(y_preds)\n",
    "        \n",
    "        w = grad_weight_update(learning_rate, x, w, y_preds, y)\n",
    "    end\n",
    "    \n",
    "    return w\n",
    "end"
   ]
  },
  {
   "cell_type": "code",
   "execution_count": null,
   "id": "4f0373c8",
   "metadata": {},
   "outputs": [],
   "source": []
  },
  {
   "cell_type": "markdown",
   "id": "b0d7aef2",
   "metadata": {},
   "source": [
    "## Accuracy function"
   ]
  },
  {
   "cell_type": "code",
   "execution_count": 128,
   "id": "c17f29cb",
   "metadata": {},
   "outputs": [
    {
     "data": {
      "text/plain": [
       "calc_accuracy (generic function with 1 method)"
      ]
     },
     "execution_count": 128,
     "metadata": {},
     "output_type": "execute_result"
    }
   ],
   "source": [
    "function calc_accuracy(y_preds::Matrix, y_actual::Matrix)::Float64\n",
    "    total_correct = 0\n",
    "    total_preds = size(y_preds)[2]\n",
    "    \n",
    "    for i in 1:total_preds\n",
    "        if(y_preds[1, i] > 0.5 && y_actual[1, i] > 0)\n",
    "            total_correct += 1\n",
    "        end\n",
    "        if(y_preds[1, i] <= 0.5 && y_actual[1, i] < 0)\n",
    "            total_correct += 1\n",
    "        end\n",
    "    end\n",
    "    \n",
    "    return total_correct / total_preds * 100\n",
    "end"
   ]
  },
  {
   "cell_type": "code",
   "execution_count": null,
   "id": "d6d777f1",
   "metadata": {},
   "outputs": [],
   "source": []
  },
  {
   "cell_type": "code",
   "execution_count": null,
   "id": "51710a3c",
   "metadata": {},
   "outputs": [],
   "source": []
  },
  {
   "cell_type": "markdown",
   "id": "9af1f786",
   "metadata": {},
   "source": [
    "## Fit model and get final weights"
   ]
  },
  {
   "cell_type": "code",
   "execution_count": 117,
   "id": "b0200158",
   "metadata": {},
   "outputs": [
    {
     "data": {
      "text/plain": [
       "1×15 Matrix{Float64}:\n",
       " -0.355526  0.677844  0.702818  0.14594  …  0.419975  0.660922  0.756544"
      ]
     },
     "execution_count": 117,
     "metadata": {},
     "output_type": "execute_result"
    }
   ],
   "source": [
    "# create test matrices\n",
    "\n",
    "train_x_mtrx = Matrix(test_x)\n",
    "train_y_mtrx = Matrix(Matrix(test_y)')\n",
    "\n",
    "w = fit_model(train_x_mtrx, train_y_mtrx, 6000, 0.0002)"
   ]
  },
  {
   "cell_type": "code",
   "execution_count": null,
   "id": "5448d9cc",
   "metadata": {},
   "outputs": [],
   "source": []
  },
  {
   "cell_type": "markdown",
   "id": "144f376c",
   "metadata": {},
   "source": [
    "## Calculate accuracy of model\n",
    "\n"
   ]
  },
  {
   "cell_type": "code",
   "execution_count": 135,
   "id": "c76840fa",
   "metadata": {},
   "outputs": [
    {
     "name": "stdout",
     "output_type": "stream",
     "text": [
      "Accuracy: 64.68181818181819 %\n"
     ]
    }
   ],
   "source": [
    "# create test matrices\n",
    "test_x_mtrx = Matrix(train_x)\n",
    "test_y_mtrx = Matrix(Matrix(train_y)')\n",
    "\n",
    "# concat 1's\n",
    "test_x_mtrx = hcat(ones(size(test_x_mtrx)[1], 1), test_x_mtrx)\n",
    "\n",
    "test_y_preds = predict(test_x_mtrx, Matrix(w'))\n",
    "\n",
    "accuracy = calc_accuracy(test_y_preds, test_y_mtrx)\n",
    "println(\"Accuracy: $(accuracy) %\")\n",
    "\n"
   ]
  },
  {
   "cell_type": "code",
   "execution_count": null,
   "id": "8a3485b8",
   "metadata": {},
   "outputs": [],
   "source": []
  },
  {
   "cell_type": "code",
   "execution_count": null,
   "id": "b073eb70",
   "metadata": {},
   "outputs": [],
   "source": []
  },
  {
   "cell_type": "code",
   "execution_count": null,
   "id": "e9b957cf",
   "metadata": {},
   "outputs": [],
   "source": []
  },
  {
   "cell_type": "code",
   "execution_count": null,
   "id": "8dfcf0ae",
   "metadata": {},
   "outputs": [],
   "source": []
  },
  {
   "cell_type": "code",
   "execution_count": null,
   "id": "3307ce13",
   "metadata": {},
   "outputs": [],
   "source": []
  },
  {
   "cell_type": "code",
   "execution_count": null,
   "id": "3c501b4f",
   "metadata": {},
   "outputs": [],
   "source": []
  },
  {
   "cell_type": "code",
   "execution_count": 122,
   "id": "3d6eb608",
   "metadata": {},
   "outputs": [
    {
     "data": {
      "text/plain": [
       "5-element Vector{Float64}:\n",
       " 0.11922013536052364\n",
       " 0.20764827365199096\n",
       " 0.4509315850578627\n",
       " 0.9354822764639139\n",
       " 0.40404481418244687"
      ]
     },
     "execution_count": 122,
     "metadata": {},
     "output_type": "execute_result"
    }
   ],
   "source": [
    "first(test_y_preds, 5)"
   ]
  },
  {
   "cell_type": "code",
   "execution_count": 125,
   "id": "d3a3c860",
   "metadata": {},
   "outputs": [
    {
     "data": {
      "text/plain": [
       "10-element Vector{Float64}:\n",
       " -0.4237251671831772\n",
       " -0.4237251671831772\n",
       " -0.4237251671831772\n",
       "  2.35894757252724\n",
       " -0.4237251671831772\n",
       " -0.4237251671831772\n",
       "  2.35894757252724\n",
       " -0.4237251671831772\n",
       " -0.4237251671831772\n",
       " -0.4237251671831772"
      ]
     },
     "execution_count": 125,
     "metadata": {},
     "output_type": "execute_result"
    }
   ],
   "source": [
    "first(test_y_mtrx, 10)"
   ]
  },
  {
   "cell_type": "code",
   "execution_count": null,
   "id": "52884a02",
   "metadata": {},
   "outputs": [],
   "source": []
  },
  {
   "cell_type": "code",
   "execution_count": 99,
   "id": "2700367f",
   "metadata": {},
   "outputs": [
    {
     "data": {
      "text/plain": [
       "(1550, 1)"
      ]
     },
     "execution_count": 99,
     "metadata": {},
     "output_type": "execute_result"
    }
   ],
   "source": [
    "first(test_y_mtrx, 5)"
   ]
  },
  {
   "cell_type": "code",
   "execution_count": 133,
   "id": "3c825d14",
   "metadata": {},
   "outputs": [
    {
     "data": {
      "text/plain": [
       "10-element Vector{Int64}:\n",
       " 0\n",
       " 0\n",
       " 0\n",
       " 1\n",
       " 0\n",
       " 0\n",
       " 1\n",
       " 0\n",
       " 0\n",
       " 0"
      ]
     },
     "execution_count": 133,
     "metadata": {},
     "output_type": "execute_result"
    }
   ],
   "source": [
    "first(df.TenYearCHD, 10)"
   ]
  },
  {
   "cell_type": "code",
   "execution_count": 134,
   "id": "55fc97c7",
   "metadata": {},
   "outputs": [
    {
     "data": {
      "text/plain": [
       "10-element Vector{Float64}:\n",
       " -0.4237251671831772\n",
       " -0.4237251671831772\n",
       " -0.4237251671831772\n",
       "  2.35894757252724\n",
       " -0.4237251671831772\n",
       " -0.4237251671831772\n",
       "  2.35894757252724\n",
       " -0.4237251671831772\n",
       " -0.4237251671831772\n",
       " -0.4237251671831772"
      ]
     },
     "execution_count": 134,
     "metadata": {},
     "output_type": "execute_result"
    }
   ],
   "source": [
    "first(train_y.TenYearCHD, 10)"
   ]
  },
  {
   "cell_type": "code",
   "execution_count": null,
   "id": "e2e20156",
   "metadata": {},
   "outputs": [],
   "source": []
  },
  {
   "cell_type": "code",
   "execution_count": 34,
   "id": "39d8f271",
   "metadata": {},
   "outputs": [
    {
     "data": {
      "text/plain": [
       "2.718281828459045"
      ]
     },
     "execution_count": 34,
     "metadata": {},
     "output_type": "execute_result"
    }
   ],
   "source": [
    "exp(1)"
   ]
  },
  {
   "cell_type": "code",
   "execution_count": 35,
   "id": "f0701987",
   "metadata": {},
   "outputs": [
    {
     "data": {
      "text/plain": [
       "0.36787944117144233"
      ]
     },
     "execution_count": 35,
     "metadata": {},
     "output_type": "execute_result"
    }
   ],
   "source": [
    "exp(-1)"
   ]
  },
  {
   "cell_type": "code",
   "execution_count": 40,
   "id": "84d3e5c7",
   "metadata": {},
   "outputs": [
    {
     "data": {
      "text/plain": [
       "3"
      ]
     },
     "execution_count": 40,
     "metadata": {},
     "output_type": "execute_result"
    }
   ],
   "source": [
    "xPred_test[1, 2]"
   ]
  },
  {
   "cell_type": "code",
   "execution_count": 60,
   "id": "fe8fd999",
   "metadata": {},
   "outputs": [
    {
     "data": {
      "text/plain": [
       "-2.0"
      ]
     },
     "execution_count": 60,
     "metadata": {},
     "output_type": "execute_result"
    }
   ],
   "source": [
    "((0 * log10(0.01)) + ((1 - 0) * log10(0.01)))"
   ]
  },
  {
   "cell_type": "code",
   "execution_count": 55,
   "id": "b7ca054c",
   "metadata": {},
   "outputs": [
    {
     "data": {
      "text/plain": [
       "-Inf"
      ]
     },
     "execution_count": 55,
     "metadata": {},
     "output_type": "execute_result"
    }
   ],
   "source": [
    "log10(0)+1"
   ]
  },
  {
   "cell_type": "code",
   "execution_count": 53,
   "id": "3c638514",
   "metadata": {},
   "outputs": [
    {
     "data": {
      "text/plain": [
       "-Inf"
      ]
     },
     "execution_count": 53,
     "metadata": {},
     "output_type": "execute_result"
    }
   ],
   "source": [
    "log(0)"
   ]
  },
  {
   "cell_type": "code",
   "execution_count": null,
   "id": "a127cb44",
   "metadata": {},
   "outputs": [],
   "source": []
  }
 ],
 "metadata": {
  "kernelspec": {
   "display_name": "Julia 1.7.1",
   "language": "julia",
   "name": "julia-1.7"
  },
  "language_info": {
   "file_extension": ".jl",
   "mimetype": "application/julia",
   "name": "julia",
   "version": "1.7.1"
  }
 },
 "nbformat": 4,
 "nbformat_minor": 5
}
